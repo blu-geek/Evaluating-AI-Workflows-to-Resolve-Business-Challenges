{
 "cells": [
  {
   "cell_type": "code",
   "execution_count": 1,
   "metadata": {},
   "outputs": [
    {
     "name": "stdout",
     "output_type": "stream",
     "text": [
      "\u001b[31mERROR: pip's dependency resolver does not currently take into account all the packages that are installed. This behaviour is the source of the following dependency conflicts.\n",
      "autogluon-multimodal 1.1.1 requires nvidia-ml-py3==7.352.0, which is not installed.\n",
      "jupyter-ai 2.28.3 requires faiss-cpu!=1.8.0.post0,<2.0.0,>=1.8.0, which is not installed.\n",
      "autogluon-core 1.1.1 requires scikit-learn<1.4.1,>=1.3.0, but you have scikit-learn 1.5.2 which is incompatible.\n",
      "autogluon-core 1.1.1 requires scipy<1.13,>=1.5.4, but you have scipy 1.14.1 which is incompatible.\n",
      "autogluon-features 1.1.1 requires scikit-learn<1.4.1,>=1.3.0, but you have scikit-learn 1.5.2 which is incompatible.\n",
      "autogluon-multimodal 1.1.1 requires jsonschema<4.22,>=4.18, but you have jsonschema 4.23.0 which is incompatible.\n",
      "autogluon-multimodal 1.1.1 requires omegaconf<2.3.0,>=2.1.1, but you have omegaconf 2.3.0 which is incompatible.\n",
      "autogluon-multimodal 1.1.1 requires scikit-learn<1.4.1,>=1.3.0, but you have scikit-learn 1.5.2 which is incompatible.\n",
      "autogluon-multimodal 1.1.1 requires scipy<1.13,>=1.5.4, but you have scipy 1.14.1 which is incompatible.\n",
      "autogluon-multimodal 1.1.1 requires torch<2.4,>=2.2, but you have torch 2.4.1.post100 which is incompatible.\n",
      "autogluon-tabular 1.1.1 requires scikit-learn<1.4.1,>=1.3.0, but you have scikit-learn 1.5.2 which is incompatible.\n",
      "autogluon-tabular 1.1.1 requires scipy<1.13,>=1.5.4, but you have scipy 1.14.1 which is incompatible.\n",
      "autogluon-timeseries 1.1.1 requires gluonts==0.15.1, but you have gluonts 0.14.3 which is incompatible.\n",
      "autogluon-timeseries 1.1.1 requires scipy<1.13,>=1.5.4, but you have scipy 1.14.1 which is incompatible.\n",
      "autogluon-timeseries 1.1.1 requires torch<2.4,>=2.2, but you have torch 2.4.1.post100 which is incompatible.\n",
      "autovizwidget 0.21.0 requires pandas<2.0.0,>=0.20.1, but you have pandas 2.2.0 which is incompatible.\n",
      "hdijupyterutils 0.21.0 requires pandas<2.0.0,>=0.17.1, but you have pandas 2.2.0 which is incompatible.\n",
      "jupyter-ai-magics 2.28.3 requires langchain<0.3.0,>=0.2.17, but you have langchain 0.1.11 which is incompatible.\n",
      "jupyter-ai-magics 2.28.3 requires langchain-community<0.3.0,>=0.2.19, but you have langchain-community 0.0.27 which is incompatible.\n",
      "langchain-aws 0.1.18 requires boto3<1.35.0,>=1.34.131, but you have boto3 1.34.35 which is incompatible.\n",
      "langchain-aws 0.1.18 requires langchain-core<0.3,>=0.2.33, but you have langchain-core 0.1.35 which is incompatible.\n",
      "sagemaker 2.227.0 requires boto3<2.0,>=1.34.142, but you have boto3 1.34.35 which is incompatible.\n",
      "sagemaker-jupyterlab-extension-common 0.1.30 requires pydantic<3,>=1.10.17, but you have pydantic 1.10.13 which is incompatible.\n",
      "sparkmagic 0.21.0 requires pandas<2.0.0,>=0.17.1, but you have pandas 2.2.0 which is incompatible.\u001b[0m\u001b[31m\n",
      "\u001b[0mNote: you may need to restart the kernel to use updated packages.\n"
     ]
    }
   ],
   "source": [
    "#install requirements\n",
    "%pip install -q -r requirements.txt"
   ]
  },
  {
   "cell_type": "code",
   "execution_count": 1,
   "metadata": {},
   "outputs": [
    {
     "data": {
      "text/plain": [
       "False"
      ]
     },
     "execution_count": 1,
     "metadata": {},
     "output_type": "execute_result"
    }
   ],
   "source": [
    "# Environment setup\n",
    "from dotenv import load_dotenv\n",
    "\n",
    "# Load environment variables from .env file\n",
    "load_dotenv()\n"
   ]
  },
  {
   "cell_type": "code",
   "execution_count": 2,
   "metadata": {},
   "outputs": [],
   "source": [
    "import boto3\n",
    "import os\n",
    "\n",
    "session = boto3.Session(\n",
    "    region_name=os.getenv(\"AWS_REGION\", \"us-east-1\"), profile_name=os.getenv(\"AWS_PROFILE\")\n",
    ")\n",
    "bedrock_client = boto3.client(\n",
    "    service_name='bedrock-runtime',\n",
    "    endpoint_url='https://bedrock-runtime.'+os.getenv('AWS_REGION', 'us-east-1')+'.amazonaws.com',\n",
    "    )"
   ]
  },
  {
   "cell_type": "code",
   "execution_count": 3,
   "metadata": {},
   "outputs": [
    {
     "name": "stdout",
     "output_type": "stream",
     "text": [
      "Hello! It's nice to meet you. How can I assist you today?\n"
     ]
    }
   ],
   "source": [
    "import json\n",
    "\n",
    "prompt = \"Hello, world\"\n",
    "\n",
    "body = json.dumps({\n",
    "    \"max_tokens\": 4096,\n",
    "    \"temperature\": 0.5,\n",
    "    \"messages\": [\n",
    "        {\"role\": \"user\", \"content\": prompt}\n",
    "    ],\n",
    "    \"anthropic_version\": \"bedrock-2023-05-31\"\n",
    "})\n",
    "\n",
    "response = bedrock_client.invoke_model(body=body, modelId=\"anthropic.claude-3-haiku-20240307-v1:0\")\n",
    "response_body = json.loads(response.get(\"body\").read())      \n",
    "print(response_body['content'][0]['text'])"
   ]
  },
  {
   "cell_type": "code",
   "execution_count": 4,
   "metadata": {},
   "outputs": [],
   "source": [
    "from langchain_community.chat_models import BedrockChat\n",
    "from langchain.llms.bedrock import Bedrock\n",
    "\n",
    "def get_llm(model_kwargs, model_id=\"anthropic.claude-3-haiku-20240307-v1:0\"):\n",
    "    \"\"\"Creates the LLM object for the langchain conversational bedrock agent.\n",
    "    Parameters:\n",
    "        model_kwargs (dict): Dictionary of model_kwargs to be passed to the Bedrock model.\n",
    "    Returns:\n",
    "        langchain.llms.bedrock.Bedrock: Bedrock model\n",
    "    \"\"\"\n",
    "    session = boto3.Session(\n",
    "        region_name=os.getenv(\"AWS_REGION\", \"us-east-1\"), profile_name=os.getenv(\"AWS_PROFILE\")\n",
    "    )\n",
    "    bedrock_client = boto3.client(\n",
    "        service_name='bedrock-runtime',\n",
    "        endpoint_url='https://bedrock-runtime.'+os.getenv('AWS_REGION', 'us-east-1')+'.amazonaws.com',\n",
    "        )\n",
    "    if (model_id == \"anthropic.claude-3-haiku-20240307-v1:0\") or (model_id == \"anthropic.claude-3-sonnet-20240229-v1:0\"):\n",
    "        llm = BedrockChat(\n",
    "            client=bedrock_client,\n",
    "            model_id=model_id,\n",
    "            model_kwargs=model_kwargs)\n",
    "    else:\n",
    "        llm = Bedrock(\n",
    "            client=bedrock_client,\n",
    "            model_id=model_id,\n",
    "            model_kwargs=model_kwargs)\n",
    "\n",
    "    return llm"
   ]
  },
  {
   "cell_type": "code",
   "execution_count": 5,
   "metadata": {},
   "outputs": [
    {
     "name": "stdout",
     "output_type": "stream",
     "text": [
      "Claude 2.1\n",
      "\n",
      " Here are three of the top trends in industrial manufacturing:\n",
      "\n",
      "1. Smart manufacturing and Industry 4.0. This involves using advanced technologies like AI, automation, internet of things (IoT), and big data analytics to make manufacturing more efficient, productive, and responsive. Key innovations include smart factories, industrial IoT, advanced robotics, and predictive maintenance.\n",
      "\n",
      "2. Sustainable manufacturing. Manufacturers are focusing more on sustainability - reducing waste, energy consumption, and carbon footprint through strategies like renewable energy, circular economy (reuse and recycling), responsible sourcing, and \"green\" supply chains. Many companies see sustainability as both a social responsibility and a competitive advantage.\n",
      "\n",
      "3. Advanced materials and additive manufacturing. Manufacturers are adopting advanced materials like composites, nanomaterials, smart textiles to make lighter, stronger and more functional products. Additive manufacturing (3D printing) allows faster, more flexible and customized production. These technologies facilitate innovations in product design and distributed manufacturing.\n",
      "\n",
      "Other notable trends include supply chain digitization through advanced logistics technology, adoption of cloud computing and big data tools, increased automation and robotics on the factory floor, and upskilling workforces for Industry 4.0. Overall, manufacturing is becoming more high-tech, more sustainable, and more responsive to changing customer demands and market conditions.\n",
      "\n",
      "Execution time: 10.00 seconds\n",
      "\n",
      "\n",
      "\n",
      "\n",
      "Claude 3 Haiku \n",
      "\n",
      "Here are the top 3 trends in industrial manufacturing:\n",
      "\n",
      "1. Automation and Robotics:\n",
      "   - Increased adoption of advanced automation technologies like industrial robots, cobots (collaborative robots), and autonomous material handling systems.\n",
      "   - Automation helps improve productivity, efficiency, and consistency in manufacturing processes.\n",
      "   - It also addresses labor shortages and reduces the need for repetitive, dangerous, or tedious manual tasks.\n",
      "\n",
      "2. Internet of Things (IoT) and Smart Manufacturing:\n",
      "   - Integration of IoT sensors, data analytics, and cloud computing to create \"smart factories\" with increased connectivity and data-driven decision-making.\n",
      "   - Real-time monitoring, predictive maintenance, and optimization of production processes through the use of IoT-enabled equipment and software.\n",
      "   - Improved visibility, efficiency, and flexibility in manufacturing operations.\n",
      "\n",
      "3. Additive Manufacturing (3D Printing):\n",
      "   - Growing adoption of 3D printing technologies for rapid prototyping, custom part production, and on-demand manufacturing.\n",
      "   - Enables the creation of complex, customized parts and products with reduced material waste and shorter lead times.\n",
      "   - Allows for more agile and localized manufacturing, reducing the need for large-scale centralized production facilities.\n",
      "\n",
      "Other notable trends include the increased use of advanced materials, the integration of artificial intelligence and machine learning for predictive analytics, the focus on sustainability and circular economy practices, and the adoption of digital twins for simulation and optimization of manufacturing processes.\n",
      "\n",
      "Execution time: 3.94 seconds\n"
     ]
    }
   ],
   "source": [
    "# Let us test with 2 different models that have different APIs to access to show that Langchain can help abstract this away and always call the model the same way\n",
    "\n",
    "import time\n",
    "llm = get_llm(model_id=\"anthropic.claude-v2:1\", model_kwargs={\"max_tokens_to_sample\": 4096,\"temperature\": 0.1})\n",
    "llm_2 = get_llm(model_id=\"anthropic.claude-3-haiku-20240307-v1:0\", model_kwargs={\"max_tokens\": 4096,\"temperature\": 0.1})\n",
    "\n",
    "# For Claude 2.1\n",
    "start_time = time.time()\n",
    "response = llm.invoke(\"Tell me about the top 3 trends in Industrial Manufacturing\")\n",
    "end_time = time.time()\n",
    "execution_time = end_time - start_time\n",
    "print(\"Claude 2.1\\n\\n\" + response)\n",
    "print(f\"\\nExecution time: {execution_time:.2f} seconds\\n\\n\")\n",
    "\n",
    "# For Claude 3 Haiku\n",
    "start_time2 = time.time()\n",
    "response2 = llm_2.invoke(\"Tell me about the top 3 trends in Industrial Manufacturing\")\n",
    "end_time2 = time.time()\n",
    "execution_time2 = end_time2 - start_time2\n",
    "print(\"\\n\\nClaude 3 Haiku \\n\\n\" + response2.content)\n",
    "print(f\"\\nExecution time: {execution_time2:.2f} seconds\")\n"
   ]
  },
  {
   "cell_type": "code",
   "execution_count": 6,
   "metadata": {},
   "outputs": [
    {
     "name": "stdout",
     "output_type": "stream",
     "text": [
      "Similarity between responses: 0.64\n"
     ]
    }
   ],
   "source": [
    "from sklearn.feature_extraction.text import TfidfVectorizer\n",
    "from sklearn.metrics.pairwise import cosine_similarity\n",
    "\n",
    "vectorizer = TfidfVectorizer().fit_transform([response, response2.content])\n",
    "similarity = cosine_similarity(vectorizer[0:1], vectorizer[1:2])\n",
    "print(f\"Similarity between responses: {similarity[0][0]:.2f}\")\n"
   ]
  },
  {
   "cell_type": "code",
   "execution_count": 7,
   "metadata": {},
   "outputs": [
    {
     "name": "stdout",
     "output_type": "stream",
     "text": [
      "Collecting TextBlob\n",
      "  Downloading textblob-0.19.0-py3-none-any.whl.metadata (4.4 kB)\n",
      "Requirement already satisfied: nltk>=3.9 in /opt/conda/lib/python3.11/site-packages (from TextBlob) (3.9.1)\n",
      "Requirement already satisfied: click in /opt/conda/lib/python3.11/site-packages (from nltk>=3.9->TextBlob) (8.1.7)\n",
      "Requirement already satisfied: joblib in /opt/conda/lib/python3.11/site-packages (from nltk>=3.9->TextBlob) (1.4.2)\n",
      "Requirement already satisfied: regex>=2021.8.3 in /opt/conda/lib/python3.11/site-packages (from nltk>=3.9->TextBlob) (2024.11.6)\n",
      "Requirement already satisfied: tqdm in /opt/conda/lib/python3.11/site-packages (from nltk>=3.9->TextBlob) (4.67.1)\n",
      "Downloading textblob-0.19.0-py3-none-any.whl (624 kB)\n",
      "\u001b[2K   \u001b[90m━━━━━━━━━━━━━━━━━━━━━━━━━━━━━━━━━━━━━━━━\u001b[0m \u001b[32m624.3/624.3 kB\u001b[0m \u001b[31m48.2 MB/s\u001b[0m eta \u001b[36m0:00:00\u001b[0m\n",
      "\u001b[?25hInstalling collected packages: TextBlob\n",
      "Successfully installed TextBlob-0.19.0\n",
      "Claude 2.1 Sentiment: Sentiment(polarity=0.2786139455782313, subjectivity=0.47393707482993186)\n",
      "Claude 3 Haiku Sentiment: Sentiment(polarity=0.061974789915966375, subjectivity=0.5506302521008404)\n"
     ]
    }
   ],
   "source": [
    "!pip install TextBlob\n",
    "from textblob import TextBlob\n",
    "\n",
    "sentiment_1 = TextBlob(response).sentiment\n",
    "sentiment_2 = TextBlob(response2.content).sentiment\n",
    "print(\"Claude 2.1 Sentiment:\", sentiment_1)\n",
    "print(\"Claude 3 Haiku Sentiment:\", sentiment_2)\n"
   ]
  },
  {
   "cell_type": "code",
   "execution_count": 8,
   "metadata": {},
   "outputs": [],
   "source": [
    "prompts = [\n",
    "    \"Explain Automation and Robotics\",\n",
    "    \"Explain Digital Transformation and Industry 4.0\",\n",
    "    \"Explain Sustainability and Environmental Responsibility\"\n",
    "]\n",
    "\n",
    "results = []\n",
    "for prompt in prompts:\n",
    "    start = time.time()\n",
    "    res = llm.invoke(prompt)\n",
    "    end = time.time()\n",
    "    results.append({\"prompt\": prompt, \"response\": res, \"execution_time\": end - start})\n"
   ]
  },
  {
   "cell_type": "code",
   "execution_count": 9,
   "metadata": {},
   "outputs": [
    {
     "data": {
      "image/png": "[encoded data removed]",
      "text/plain": [
       "<Figure size 640x480 with 1 Axes>"
      ]
     },
     "metadata": {},
     "output_type": "display_data"
    }
   ],
   "source": [
    "import matplotlib.pyplot as plt\n",
    "\n",
    "prompts = [\"Prompt 1\", \"Prompt 2\", \"Prompt 3\"]\n",
    "exec_times = [execution_time, execution_time2]\n",
    "\n",
    "plt.bar([\"Claude 2.1\", \"Claude 3 Haiku\"], exec_times)\n",
    "plt.xlabel(\"Models\")\n",
    "plt.ylabel(\"Execution Time (seconds)\")\n",
    "plt.title(\"Execution Time Comparison\")\n",
    "plt.show()\n"
   ]
  },
  {
   "cell_type": "code",
   "execution_count": 10,
   "metadata": {},
   "outputs": [
    {
     "data": {
      "image/png": "[encoded data removed]",
      "text/plain": [
       "<Figure size 640x480 with 1 Axes>"
      ]
     },
     "metadata": {},
     "output_type": "display_data"
    }
   ],
   "source": [
    "word_count_1 = len(response.split())\n",
    "word_count_2 = len(response2.content.split())\n",
    "\n",
    "plt.bar([\"Claude 2.1\", \"Claude 3 Haiku\"], [word_count_1, word_count_2])\n",
    "plt.xlabel(\"Models\")\n",
    "plt.ylabel(\"Word Count\")\n",
    "plt.title(\"Word Count Comparison\")\n",
    "plt.show()\n"
   ]
  },
  {
   "cell_type": "code",
   "execution_count": 11,
   "metadata": {},
   "outputs": [
    {
     "name": "stdout",
     "output_type": "stream",
     "text": [
      "Collecting textstat\n",
      "  Downloading textstat-0.7.4-py3-none-any.whl.metadata (14 kB)\n",
      "Collecting pyphen (from textstat)\n",
      "  Downloading pyphen-0.17.0-py3-none-any.whl.metadata (3.2 kB)\n",
      "Requirement already satisfied: setuptools in /opt/conda/lib/python3.11/site-packages (from textstat) (75.6.0)\n",
      "Downloading textstat-0.7.4-py3-none-any.whl (105 kB)\n",
      "Downloading pyphen-0.17.0-py3-none-any.whl (2.1 MB)\n",
      "\u001b[2K   \u001b[90m━━━━━━━━━━━━━━━━━━━━━━━━━━━━━━━━━━━━━━━━\u001b[0m \u001b[32m2.1/2.1 MB\u001b[0m \u001b[31m79.7 MB/s\u001b[0m eta \u001b[36m0:00:00\u001b[0m\n",
      "\u001b[?25hInstalling collected packages: pyphen, textstat\n",
      "Successfully installed pyphen-0.17.0 textstat-0.7.4\n",
      "Readability Score for Claude 2.1: 12.83\n",
      "Readability Score for Claude 3 Haiku: 2.04\n"
     ]
    }
   ],
   "source": [
    "!pip install textstat\n",
    "\n",
    "from textstat import flesch_reading_ease\n",
    "\n",
    "readability_1 = flesch_reading_ease(response)\n",
    "readability_2 = flesch_reading_ease(response2.content)\n",
    "print(\"Readability Score for Claude 2.1:\", readability_1)\n",
    "print(\"Readability Score for Claude 3 Haiku:\", readability_2)\n"
   ]
  },
  {
   "cell_type": "code",
   "execution_count": 12,
   "metadata": {},
   "outputs": [
    {
     "name": "stdout",
     "output_type": "stream",
     "text": [
      "Claude 2.1 (French):  Voici quelques-unes des principales tendances actuelles dans la fabrication industrielle :\n",
      "\n",
      "- Automatisation et robotique : Les usines utilisent de plus en plus de robots, de cobots (robots collaboratifs), de machines automatisées et d'intelligence artificielle pour améliorer la productivité, la qualité et la sécurité. Cela réduit aussi les coûts de main-d'œuvre.\n",
      "\n",
      "- Fabrication additive : Les imprimantes 3D et d'autres technologies de fabrication additive permettent de produire des pièces et des produits complexes sans moules ni outils. Cela permet une plus grande personnalisation et flexibilité. La fabrication additive devient de plus en plus utilisée pour la production en série.\n",
      "\n",
      "- Internet industriel des objets (IIoT) : De plus en plus de capteurs et de logiciels sont utilisés dans la production pour collecter et analyser des données en temps réel, améliorer les processus et prédire la maintenance. L'IIoT connecte les équipements de l'usine numériquement.\n",
      "\n",
      "- Fabrication intelligente : Grâce aux big data, à l'intelligence artificielle, à l'apprentissage automatique et à d'autres technologies, les usines deviennent capables de s'ajuster et s'optimiser automatiquement en fonction de la demande, des pannes, etc. Cela mène à une plus grande efficacité.\n",
      "\n",
      "- Durabilité : Face aux préoccupations environnementales croissantes, les usines optimisent de plus en plus l'utilisation des ressources comme l'énergie et l'eau. Elles adoptent des technologies vertes et des pratiques durables pour réduire leurs déchets et leur empreinte carbone.\n",
      "\n",
      "Ce ne sont là que quelques tendances parmi beaucoup d'autres innovations! La fabrication évolue rapidement pour devenir plus flexible, intelligente et connectée.\n"
     ]
    }
   ],
   "source": [
    "response_multilingual = llm.invoke(\"Expliquez les tendances actuelles dans la fabrication industrielle.\")\n",
    "print(\"Claude 2.1 (French):\", response_multilingual)\n"
   ]
  },
  {
   "cell_type": "code",
   "execution_count": 13,
   "metadata": {},
   "outputs": [
    {
     "name": "stdout",
     "output_type": "stream",
     "text": [
      " Here is an explanation of some key industrial manufacturing trends:\n",
      "\n",
      "1. Automation and robotics - Manufacturers are increasingly adopting automation technologies like robots, conveyor systems, and automated machinery. This allows faster production, reduced labor costs, and improved quality control.\n",
      "\n",
      "2. Advanced analytics and AI - Manufacturers are utilizing big data analytics, machine learning, and artificial intelligence to derive insights from production data. This enables predictive maintenance of equipment, optimization of supply chains, and customization of production.\n",
      "\n",
      "3. Sustainable manufacturing - There is a rise in use of renewable materials, reduction of waste, recycling, and adoption of energy efficient equipment. This allows manufacturers to reduce environmental impact and costs.\n",
      "\n",
      "4. Smart connected factories - Manufacturing equipment and systems are becoming more connected through internet of things (IoT) devices and sensors. This allows real-time monitoring, coordination, and control of production.\n",
      "\n",
      "5. Customization and flexible production - Using advanced computer-aided technologies, manufacturers can economically customize products in small batches to meet specific customer requirements. This allows greater flexibility and personalization.\n",
      "\n",
      "In summary, manufacturers are leveraging automation, data-driven insights, connectivity, and flexible processes to improve productivity, lower costs, address sustainability needs, and deliver greater customization. These technology-enabled trends are transforming traditional manufacturing.\n"
     ]
    }
   ],
   "source": [
    "prompt_with_examples = \"\"\"\n",
    "Example 1: What are the benefits of AI? -> AI enables automation and improves efficiency.\n",
    "Example 2: Explain cloud computing. -> Cloud computing is the delivery of computing services over the internet.\n",
    "Now, explain industrial manufacturing trends.\n",
    "\"\"\"\n",
    "response_few_shot = llm.invoke(prompt_with_examples)\n",
    "print(response_few_shot)\n"
   ]
  },
  {
   "cell_type": "code",
   "execution_count": 14,
   "metadata": {},
   "outputs": [
    {
     "name": "stdout",
     "output_type": "stream",
     "text": [
      " Here is a detailed report on the impact of robotics in industrial manufacturing:\n",
      "\n",
      "Introduction\n",
      "\n",
      "Robotics has had a significant impact on industrial manufacturing over the past few decades. As robots have become more advanced, affordable, and capable of performing complex tasks, manufacturers have increasingly adopted robotic automation in their production processes. This report explores the key impacts robotics has had on manufacturing in areas such as:\n",
      "\n",
      "- Productivity and Efficiency\n",
      "- Product Quality \n",
      "- Cost Reduction\n",
      "- Workplace Safety\n",
      "- Job Creation\n",
      "- Workforce Displacement\n",
      "\n",
      "Increased Productivity and Efficiency\n",
      "\n",
      "One of the biggest impacts of robotics has been substantially increased productivity and efficiency in manufacturing facilities. Robots can operate 24/7 without breaks, perform tasks with a higher degree of accuracy and repeatability, and often at faster speeds than human workers. This results in higher throughput and output. Industrial robots have been estimated to increase productivity by 15-30% across various industry applications. Their consistent high-quality performance has enabled greater standardization and streamlining of production.\n",
      "\n",
      "Improved Product Quality\n",
      "\n",
      "By automating repetitive, dangerous or delicate tasks, robots help improve product quality and reduce defects. Their precision in manufacturing minimizes variances and produces more uniform products. Robots also perform thorough quality checks and monitoring throughout production. For example, robotic paint spraying achieves greater coating consistency than manual work. Lower defect rates improve yields and reduce waste.\n",
      "\n",
      "Cost Reduction \n",
      "\n",
      "Robotics yields considerable cost reduction in manufacturing - both direct and indirect savings. Robots slash operational costs by reducing waste and material usage. Their capital cost is often quickly recovered given their durable lifespans, low maintenance needs and energy efficiency. Robotic automation has also trimmed indirect costs by enabling just-in-time manufacturing that decreases inventory holding and logistics expenses. With greater quality control, warranty and rework costs have shrunk as well.\n",
      "\n",
      "Enhanced Workplace Safety\n",
      "\n",
      "By taking over hazardous tasks like handling toxic materials, heavy payloads or hot surfaces, robots create safer and healthier working environments. Industrial accidents have declined considerably at many production facilities following robotic automation of dangerous jobs. Robots also improve consistency and remove human error to enhance safety. Their reliable performance reduces risk factors.\n",
      "\n",
      "Job Creation\n",
      "\n",
      "While often feared as \"job-stealers\", industrial robots have created many new jobs even as they take over routine tasks. Robotics has enabled more manufacturing work to be reshored back locally. New jobs have emerged in robot design, building, maintenance and programming - often requiring advanced technical skills. Workers can now focus on higher-value roles like monitoring and quality testing. Many existing jobs have also been upgraded to leverage robot collaborations, increasing their technical aspects.\n",
      "\n",
      "Workforce Displacement\n",
      "\n",
      "However, robotics has also significantly displaced many factory jobs, especially for low and semi-skilled workers carrying out simple physical tasks. Repetitive and routine manual jobs like welding, painting or assembly work have been hit hardest. This has contributed to job losses and labor unrest, though negative effects have been buffered by retraining programs and redeployment of displaced workers. New hires increasingly need robotic experience and STEM skills as human-robot collaboration becomes more prevalent.\n",
      "\n",
      "Conclusion\n",
      "\n",
      "In conclusion, the rise of robotics in factories has boosted productivity, quality, flexibility and precision while cutting costs and risks. But it has also displaced some workers even as it takes manufacturing to unprecedented levels of efficiency. Managing this workforce transition and alignment of skills is crucial. With the accelerating pace of robotic automation, manufacturers must keep innovating how humans and machines can best cooperate.\n"
     ]
    }
   ],
   "source": [
    "long_prompt = \"Write a detailed report on the impact of robotics in industrial manufacturing.\"\n",
    "long_response = llm.invoke(long_prompt)\n",
    "print(long_response)\n"
   ]
  },
  {
   "cell_type": "code",
   "execution_count": 15,
   "metadata": {},
   "outputs": [
    {
     "name": "stdout",
     "output_type": "stream",
     "text": [
      " Unfortunately I do not have enough context to generate a summary. As an AI assistant without access to previous conversations or documents, I do not have any information about a report on the impact of robotics in industrial manufacturing or any response I may have provided. I'd be happy to summarize such a response if you provide me some more details about the original report and what my response contained. Please feel free to provide additional context, and I apologize that I am unable to be more helpful at this time.\n"
     ]
    }
   ],
   "source": [
    "summary_prompt= \"Write a summary of your response to the report on the impact of robotics in industrial manufacturing.\"\n",
    "summary_response = llm.invoke(summary_prompt)\n",
    "print(summary_response)\n"
   ]
  },
  {
   "cell_type": "code",
   "execution_count": 16,
   "metadata": {},
   "outputs": [
    {
     "name": "stdout",
     "output_type": "stream",
     "text": [
      "content='Certainly! Here is a detailed report on the impact of robotics in industrial manufacturing:\\n\\nIntroduction:\\nThe integration of robotics in industrial manufacturing has been a transformative force, revolutionizing the way products are designed, produced, and delivered. Robotics has become an essential component of modern manufacturing, offering a wide range of benefits that have significantly impacted the industry.\\n\\nIncreased Productivity and Efficiency:\\nOne of the primary impacts of robotics in industrial manufacturing is the significant increase in productivity and efficiency. Robotic systems can work tirelessly, with high precision and speed, outperforming human workers in repetitive tasks. This has led to a substantial increase in output, reduced production times, and improved overall equipment effectiveness (OEE).\\n\\nImproved Quality and Consistency:\\nRobotic systems are programmed to perform tasks with a high degree of accuracy and consistency, ensuring that the final products meet strict quality standards. This has resulted in a reduction in defects, waste, and rework, leading to improved product quality and customer satisfaction.\\n\\nEnhanced Safety and Ergonomics:\\nRobotics has played a crucial role in enhancing workplace safety by taking over hazardous, physically demanding, or repetitive tasks that can be detrimental to human health. Robotic systems can operate in environments that are unsafe or unsuitable for human workers, reducing the risk of injuries and improving overall worker well-being.\\n\\nIncreased Flexibility and Adaptability:\\nModern industrial robots are designed to be highly flexible and adaptable, allowing manufacturers to quickly adjust production lines to accommodate changes in product design, customer demands, or market conditions. This agility enables manufacturers to respond more effectively to market fluctuations and maintain a competitive edge.\\n\\nCost Savings and Reduced Labor Costs:\\nThe implementation of robotics in industrial manufacturing has led to significant cost savings, primarily through reduced labor costs. Robotic systems can operate continuously, without the need for breaks or overtime pay, leading to a lower overall cost of production. Additionally, the reduced maintenance and energy requirements of robotic systems contribute to further cost savings.\\n\\nImproved Data Collection and Analytics:\\nRobotic systems are often integrated with advanced sensors and data collection systems, providing manufacturers with a wealth of real-time data on production processes, equipment performance, and quality control. This data can be analyzed to identify optimization opportunities, predict maintenance needs, and make data-driven decisions to improve overall operational efficiency.\\n\\nChallenges and Considerations:\\nWhile the integration of robotics in industrial manufacturing has brought about numerous benefits, there are also challenges and considerations that manufacturers must address. These include the initial investment required for robotic systems, the need for specialized technical expertise to operate and maintain the equipment, and the potential impact on employment and workforce dynamics.\\n\\nConclusion:\\nThe impact of robotics in industrial manufacturing has been profound, driving significant improvements in productivity, quality, safety, and cost-effectiveness. As technology continues to advance, the role of robotics in the manufacturing sector is expected to grow even further, enabling manufacturers to stay competitive, responsive, and adaptable in an ever-changing global market.'\n"
     ]
    }
   ],
   "source": [
    "adv_prompt = \"Write a detailed report on the impact of robotics in industrial manufacturing.\"\n",
    "adv_response = llm_2.invoke(adv_prompt)\n",
    "print(adv_response)"
   ]
  },
  {
   "cell_type": "code",
   "execution_count": 17,
   "metadata": {},
   "outputs": [
    {
     "name": "stdout",
     "output_type": "stream",
     "text": [
      "content=\"Unfortunately, I do not have access to any detailed report on the impact of robotics in industrial manufacturing. As an AI assistant without specific knowledge about such a report, I do not have a summary to provide. If you are able to share the detailed report you mentioned, I would be happy to review it and provide a concise summary of the key points and findings. Please let me know if you can provide the report, and I'll do my best to summarize it for you.\"\n"
     ]
    }
   ],
   "source": [
    "sumary_prompt = \"Write a summary of the detailed report on the impact of robotics in industrial manufacturing you just gave.\"\n",
    "sumary_response = llm_2.invoke(sumary_prompt)\n",
    "print(sumary_response)"
   ]
  },
  {
   "cell_type": "code",
   "execution_count": null,
   "metadata": {},
   "outputs": [],
   "source": []
  }
 ],
 "metadata": {
  "kernelspec": {
   "display_name": "Python 3 (ipykernel)",
   "language": "python",
   "name": "python3"
  },
  "language_info": {
   "codemirror_mode": {
    "name": "ipython",
    "version": 3
   },
   "file_extension": ".py",
   "mimetype": "text/x-python",
   "name": "python",
   "nbconvert_exporter": "python",
   "pygments_lexer": "ipython3",
   "version": "3.11.11"
  }
 },
 "nbformat": 4,
 "nbformat_minor": 4
}
